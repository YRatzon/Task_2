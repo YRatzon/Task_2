{
 "cells": [
  {
   "cell_type": "code",
   "execution_count": 1,
   "metadata": {},
   "outputs": [
    {
     "name": "stderr",
     "output_type": "stream",
     "text": [
      "c:\\Users\\yratz\\AppData\\Local\\Programs\\Python\\Python39\\lib\\site-packages\\IPython\\core\\interactiveshell.py:3441: DtypeWarning: Columns (6) have mixed types.Specify dtype option on import or set low_memory=False.\n",
      "  exec(code_obj, self.user_global_ns, self.user_ns)\n"
     ]
    },
    {
     "name": "stdout",
     "output_type": "stream",
     "text": [
      "Index(['event_time', 'event_type', 'product_id', 'category_id',\n",
      "       'category_code', 'brand', 'price', 'user_id', 'user_session'],\n",
      "      dtype='object')\n"
     ]
    }
   ],
   "source": [
    "import numpy as np\n",
    "import pandas as pd\n",
    "data = pd.read_csv('C:/Users/yratz/OneDrive/מסמכים/לימודים/Data analize/task2/matala2_cosmetics_2019-Nov.csv')\n",
    "print(data.columns)"
   ]
  },
  {
   "cell_type": "code",
   "execution_count": null,
   "metadata": {},
   "outputs": [],
   "source": [
    "#1\n",
    "data['user_session'] = data['user_session'].fillna(method='ffill')\n",
    "data=data.sort_values(by='event_time')\n",
    "data['event_time'] = pd.to_datetime(data['event_time'])\n",
    "data['duration_to_next_event'] = data.groupby('user_session')['event_time'].apply(\n",
    "    lambda x: (x.shift(-1)-x)).fillna(pd.Timedelta(seconds=0))\n",
    "data['duration_to_next_event'] = data['duration_to_next_event'].apply(lambda x: x.total_seconds())\n",
    "data"
   ]
  },
  {
   "cell_type": "code",
   "execution_count": 135,
   "metadata": {},
   "outputs": [],
   "source": [
    "#2\n",
    "data['funnel_number'] = data.groupby('user_id')['event_time'].apply(\n",
    "    lambda x: (x.dt.day - x.shift(1).dt.day> 5).cumsum()+1)\n",
    "data"
   ]
  },
  {
   "cell_type": "code",
   "execution_count": 137,
   "metadata": {},
   "outputs": [],
   "source": [
    "#3\n",
    "data['index_in_funnel'] = data.groupby(['user_id','funnel_number'])['event_time'].rank(method='first')\n",
    "data"
   ]
  },
  {
   "cell_type": "code",
   "execution_count": 139,
   "metadata": {},
   "outputs": [],
   "source": [
    "#4\n",
    "import re\n",
    "data['price'] = data['price'].astype(str)\n",
    "data['price']=data['price'].apply(lambda x: float(re.findall('[0-9]+\\.+[0-9]+|[0-9]+',x)[0]))\n",
    "data['price'].dtype"
   ]
  },
  {
   "cell_type": "code",
   "execution_count": 141,
   "metadata": {},
   "outputs": [],
   "source": [
    "#5\n",
    "import matplotlib.pyplot as plt\n",
    "group_data=data.groupby('event_type').count()\n",
    "plt.bar(group_data.index, group_data['user_id'])\n",
    "plt.xlabel('Event type')\n",
    "plt.ylabel('Number of operations')\n",
    "plt.show()"
   ]
  },
  {
   "cell_type": "code",
   "execution_count": 143,
   "metadata": {},
   "outputs": [],
   "source": [
    "#6\n",
    "grouped_data = data.groupby('user_session')\n",
    "session_data = pd.DataFrame()\n",
    "session_data['User_session'] = grouped_data['user_session'].unique().apply(lambda x: x[0])\n",
    "session_data['User_id'] = grouped_data['user_id'].agg('first')\n",
    "session_data['funnel_number'] = grouped_data['funnel_number'].agg('first')\n",
    "session_data['index_in_funnel'] = grouped_data['index_in_funnel'].agg('last')\n",
    "session_data['num_of_events'] = grouped_data['event_type'].count()\n",
    "session_data['duration_in_sec'] = grouped_data['duration_to_next_event'].sum()\n",
    "session_data['list_of_viewed'] = grouped_data.apply(lambda x: x.loc[x['event_type']=='view','product_id'].tolist())\n",
    "session_data['list_of_added_to_cart'] = grouped_data.apply(lambda x: x.loc[x['event_type']=='cart','product_id'].tolist())\n",
    "session_data['list_of_purchased'] = grouped_data.apply(lambda x: x.loc[x['event_type']=='purchased','product_id'].tolist())\n",
    "session_data=session_data.reset_index(drop=True)\n",
    "session_data"
   ]
  }
 ],
 "metadata": {
  "kernelspec": {
   "display_name": "Python 3",
   "language": "python",
   "name": "python3"
  },
  "language_info": {
   "codemirror_mode": {
    "name": "ipython",
    "version": 3
   },
   "file_extension": ".py",
   "mimetype": "text/x-python",
   "name": "python",
   "nbconvert_exporter": "python",
   "pygments_lexer": "ipython3",
   "version": "3.9.6"
  },
  "orig_nbformat": 4
 },
 "nbformat": 4,
 "nbformat_minor": 2
}
